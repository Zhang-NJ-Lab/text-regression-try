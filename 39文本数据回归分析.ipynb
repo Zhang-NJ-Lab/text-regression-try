{
 "cells": [
  {
   "cell_type": "code",
   "execution_count": 35,
   "id": "a69d7a44-d71f-48d7-8398-d6e111612e87",
   "metadata": {},
   "outputs": [],
   "source": [
    "#数据下载（从github上随便搜得的）： 下载需要的文件后解压：http://snap.stanford.edu/data/amazon/productGraph/categoryFiles/          reviews_Musical_Instruments_5.json.gz"
   ]
  },
  {
   "cell_type": "code",
   "execution_count": 36,
   "id": "2f9a0bac-54eb-436a-b0a9-badc2d02676b",
   "metadata": {},
   "outputs": [],
   "source": [
    "from nltk import data"
   ]
  },
  {
   "cell_type": "code",
   "execution_count": 37,
   "id": "6407bbf6-fd42-49c5-8e47-a424f369b9fd",
   "metadata": {},
   "outputs": [],
   "source": [
    "data.path.append(r'../nltk_data')"
   ]
  },
  {
   "cell_type": "code",
   "execution_count": 38,
   "id": "8dabeacc-979c-43a8-aefa-7d84a8ba8fa5",
   "metadata": {},
   "outputs": [],
   "source": [
    "import pandas as pd"
   ]
  },
  {
   "cell_type": "code",
   "execution_count": 39,
   "id": "484f9290-f2aa-4adb-9ab8-cef6eabb982a",
   "metadata": {},
   "outputs": [],
   "source": [
    "import matplotlib.pyplot as plt"
   ]
  },
  {
   "cell_type": "code",
   "execution_count": 40,
   "id": "dc54e8dd-13f6-495b-9733-1eebaf25eb6a",
   "metadata": {},
   "outputs": [],
   "source": [
    "%matplotlib inline"
   ]
  },
  {
   "cell_type": "code",
   "execution_count": 41,
   "id": "54e8add2-b821-472f-a5f9-350027ae20eb",
   "metadata": {},
   "outputs": [],
   "source": [
    "import re"
   ]
  },
  {
   "cell_type": "code",
   "execution_count": 42,
   "id": "57270447-6078-4798-bcae-7b868d608fce",
   "metadata": {},
   "outputs": [],
   "source": [
    "import string"
   ]
  },
  {
   "cell_type": "code",
   "execution_count": 43,
   "id": "6f5083bf-c1ec-43e2-a7bb-da0494d42464",
   "metadata": {},
   "outputs": [],
   "source": [
    "from nltk import word_tokenize"
   ]
  },
  {
   "cell_type": "code",
   "execution_count": 44,
   "id": "5fb35b93-dbcf-4d19-9aba-9d984f15f5bb",
   "metadata": {},
   "outputs": [],
   "source": [
    "from nltk.stem import WordNetLemmatizer"
   ]
  },
  {
   "cell_type": "code",
   "execution_count": 45,
   "id": "600434da-78cf-4b77-b235-5d54105371c6",
   "metadata": {},
   "outputs": [],
   "source": [
    "from sklearn.feature_extraction.text import TfidfVectorizer"
   ]
  },
  {
   "cell_type": "code",
   "execution_count": 46,
   "id": "9ee1c62f-8064-4be3-a725-9c8398203881",
   "metadata": {},
   "outputs": [],
   "source": [
    "from collections import Counter"
   ]
  },
  {
   "cell_type": "code",
   "execution_count": 47,
   "id": "e630f1a7-c98c-4f18-96ab-683de7cda899",
   "metadata": {},
   "outputs": [],
   "source": [
    "from pylab import *"
   ]
  },
  {
   "cell_type": "code",
   "execution_count": 48,
   "id": "dc63042b-0d2f-40e4-8c17-8f79db419c49",
   "metadata": {},
   "outputs": [],
   "source": [
    "import nltk"
   ]
  },
  {
   "cell_type": "code",
   "execution_count": 49,
   "id": "67c322ed-ae56-456e-bfed-780972a49241",
   "metadata": {},
   "outputs": [],
   "source": [
    "import warnings"
   ]
  },
  {
   "cell_type": "code",
   "execution_count": 50,
   "id": "f6200f8d-e788-46a9-966a-ad069d83c4d2",
   "metadata": {},
   "outputs": [],
   "source": [
    "warnings.filterwarnings('ignore')"
   ]
  },
  {
   "cell_type": "code",
   "execution_count": 51,
   "id": "4aeaf9f4-79c3-467c-8470-76180cda08f3",
   "metadata": {},
   "outputs": [],
   "source": [
    "review_data = pd.read_json('data/Musical_Instruments_5.json', lines=True)"
   ]
  },
  {
   "cell_type": "code",
   "execution_count": 52,
   "id": "3e6a690f-0621-4b01-9421-bffc62509dd7",
   "metadata": {},
   "outputs": [
    {
     "data": {
      "text/html": [
       "<div>\n",
       "<style scoped>\n",
       "    .dataframe tbody tr th:only-of-type {\n",
       "        vertical-align: middle;\n",
       "    }\n",
       "\n",
       "    .dataframe tbody tr th {\n",
       "        vertical-align: top;\n",
       "    }\n",
       "\n",
       "    .dataframe thead th {\n",
       "        text-align: right;\n",
       "    }\n",
       "</style>\n",
       "<table border=\"1\" class=\"dataframe\">\n",
       "  <thead>\n",
       "    <tr style=\"text-align: right;\">\n",
       "      <th></th>\n",
       "      <th>reviewText</th>\n",
       "      <th>overall</th>\n",
       "    </tr>\n",
       "  </thead>\n",
       "  <tbody>\n",
       "    <tr>\n",
       "      <th>0</th>\n",
       "      <td>Not much to write about here, but it does exac...</td>\n",
       "      <td>5</td>\n",
       "    </tr>\n",
       "    <tr>\n",
       "      <th>1</th>\n",
       "      <td>The product does exactly as it should and is q...</td>\n",
       "      <td>5</td>\n",
       "    </tr>\n",
       "    <tr>\n",
       "      <th>2</th>\n",
       "      <td>The primary job of this device is to block the...</td>\n",
       "      <td>5</td>\n",
       "    </tr>\n",
       "    <tr>\n",
       "      <th>3</th>\n",
       "      <td>Nice windscreen protects my MXL mic and preven...</td>\n",
       "      <td>5</td>\n",
       "    </tr>\n",
       "    <tr>\n",
       "      <th>4</th>\n",
       "      <td>This pop filter is great. It looks and perform...</td>\n",
       "      <td>5</td>\n",
       "    </tr>\n",
       "  </tbody>\n",
       "</table>\n",
       "</div>"
      ],
      "text/plain": [
       "                                          reviewText  overall\n",
       "0  Not much to write about here, but it does exac...        5\n",
       "1  The product does exactly as it should and is q...        5\n",
       "2  The primary job of this device is to block the...        5\n",
       "3  Nice windscreen protects my MXL mic and preven...        5\n",
       "4  This pop filter is great. It looks and perform...        5"
      ]
     },
     "execution_count": 52,
     "metadata": {},
     "output_type": "execute_result"
    }
   ],
   "source": [
    "review_data[['reviewText', 'overall']].head()"
   ]
  },
  {
   "cell_type": "code",
   "execution_count": 53,
   "id": "00de5ebd-1e40-4feb-b5c5-9bee741045fb",
   "metadata": {},
   "outputs": [],
   "source": [
    "lemmatizer = WordNetLemmatizer()"
   ]
  },
  {
   "cell_type": "code",
   "execution_count": 54,
   "id": "3d2477c7-5f19-4a5f-993e-88efe632dac5",
   "metadata": {},
   "outputs": [],
   "source": [
    "review_data['cleaned_review_text'] = review_data['reviewText'].apply(\\\n",
    "lambda x : ' '.join([lemmatizer.lemmatize(word.lower()) \\\n",
    "    for word in word_tokenize(re.sub(r'([^\\s\\w]|_)+', ' ', str(x)))]))"
   ]
  },
  {
   "cell_type": "code",
   "execution_count": 55,
   "id": "92010b96-ded0-48e0-9303-8a2684e05651",
   "metadata": {},
   "outputs": [
    {
     "data": {
      "text/html": [
       "<div>\n",
       "<style scoped>\n",
       "    .dataframe tbody tr th:only-of-type {\n",
       "        vertical-align: middle;\n",
       "    }\n",
       "\n",
       "    .dataframe tbody tr th {\n",
       "        vertical-align: top;\n",
       "    }\n",
       "\n",
       "    .dataframe thead th {\n",
       "        text-align: right;\n",
       "    }\n",
       "</style>\n",
       "<table border=\"1\" class=\"dataframe\">\n",
       "  <thead>\n",
       "    <tr style=\"text-align: right;\">\n",
       "      <th></th>\n",
       "      <th>cleaned_review_text</th>\n",
       "      <th>reviewText</th>\n",
       "      <th>overall</th>\n",
       "    </tr>\n",
       "  </thead>\n",
       "  <tbody>\n",
       "    <tr>\n",
       "      <th>0</th>\n",
       "      <td>not much to write about here but it doe exactl...</td>\n",
       "      <td>Not much to write about here, but it does exac...</td>\n",
       "      <td>5</td>\n",
       "    </tr>\n",
       "    <tr>\n",
       "      <th>1</th>\n",
       "      <td>the product doe exactly a it should and is qui...</td>\n",
       "      <td>The product does exactly as it should and is q...</td>\n",
       "      <td>5</td>\n",
       "    </tr>\n",
       "    <tr>\n",
       "      <th>2</th>\n",
       "      <td>the primary job of this device is to block the...</td>\n",
       "      <td>The primary job of this device is to block the...</td>\n",
       "      <td>5</td>\n",
       "    </tr>\n",
       "    <tr>\n",
       "      <th>3</th>\n",
       "      <td>nice windscreen protects my mxl mic and preven...</td>\n",
       "      <td>Nice windscreen protects my MXL mic and preven...</td>\n",
       "      <td>5</td>\n",
       "    </tr>\n",
       "    <tr>\n",
       "      <th>4</th>\n",
       "      <td>this pop filter is great it look and performs ...</td>\n",
       "      <td>This pop filter is great. It looks and perform...</td>\n",
       "      <td>5</td>\n",
       "    </tr>\n",
       "  </tbody>\n",
       "</table>\n",
       "</div>"
      ],
      "text/plain": [
       "                                 cleaned_review_text  \\\n",
       "0  not much to write about here but it doe exactl...   \n",
       "1  the product doe exactly a it should and is qui...   \n",
       "2  the primary job of this device is to block the...   \n",
       "3  nice windscreen protects my mxl mic and preven...   \n",
       "4  this pop filter is great it look and performs ...   \n",
       "\n",
       "                                          reviewText  overall  \n",
       "0  Not much to write about here, but it does exac...        5  \n",
       "1  The product does exactly as it should and is q...        5  \n",
       "2  The primary job of this device is to block the...        5  \n",
       "3  Nice windscreen protects my MXL mic and preven...        5  \n",
       "4  This pop filter is great. It looks and perform...        5  "
      ]
     },
     "execution_count": 55,
     "metadata": {},
     "output_type": "execute_result"
    }
   ],
   "source": [
    "review_data[['cleaned_review_text', 'reviewText', 'overall']].head()"
   ]
  },
  {
   "cell_type": "code",
   "execution_count": 56,
   "id": "a15c8848-e4da-4adb-9428-5b54eed032dd",
   "metadata": {},
   "outputs": [],
   "source": [
    "tfidf_model = TfidfVectorizer(max_features=500)"
   ]
  },
  {
   "cell_type": "code",
   "execution_count": 57,
   "id": "4e29b7a1-b991-4a40-b11c-01dec787bc4c",
   "metadata": {},
   "outputs": [],
   "source": [
    "tfidf_df = pd.DataFrame(tfidf_model.fit_transform(review_data['cleaned_review_text']).todense())"
   ]
  },
  {
   "cell_type": "code",
   "execution_count": 58,
   "id": "c2b62c13-5ec4-49a6-9d26-15f18748b26e",
   "metadata": {},
   "outputs": [],
   "source": [
    "tfidf_df.columns = sorted(tfidf_model.vocabulary_)"
   ]
  },
  {
   "cell_type": "code",
   "execution_count": 59,
   "id": "33d94e36-4b22-42c6-a9e5-10cc784358ed",
   "metadata": {},
   "outputs": [
    {
     "data": {
      "text/html": [
       "<div>\n",
       "<style scoped>\n",
       "    .dataframe tbody tr th:only-of-type {\n",
       "        vertical-align: middle;\n",
       "    }\n",
       "\n",
       "    .dataframe tbody tr th {\n",
       "        vertical-align: top;\n",
       "    }\n",
       "\n",
       "    .dataframe thead th {\n",
       "        text-align: right;\n",
       "    }\n",
       "</style>\n",
       "<table border=\"1\" class=\"dataframe\">\n",
       "  <thead>\n",
       "    <tr style=\"text-align: right;\">\n",
       "      <th></th>\n",
       "      <th>10</th>\n",
       "      <th>100</th>\n",
       "      <th>12</th>\n",
       "      <th>20</th>\n",
       "      <th>34</th>\n",
       "      <th>able</th>\n",
       "      <th>about</th>\n",
       "      <th>accurate</th>\n",
       "      <th>acoustic</th>\n",
       "      <th>actually</th>\n",
       "      <th>...</th>\n",
       "      <th>won</th>\n",
       "      <th>work</th>\n",
       "      <th>worked</th>\n",
       "      <th>worth</th>\n",
       "      <th>would</th>\n",
       "      <th>wrong</th>\n",
       "      <th>year</th>\n",
       "      <th>yet</th>\n",
       "      <th>you</th>\n",
       "      <th>your</th>\n",
       "    </tr>\n",
       "  </thead>\n",
       "  <tbody>\n",
       "    <tr>\n",
       "      <th>0</th>\n",
       "      <td>0.0</td>\n",
       "      <td>0.0</td>\n",
       "      <td>0.0</td>\n",
       "      <td>0.0</td>\n",
       "      <td>0.0</td>\n",
       "      <td>0.000000</td>\n",
       "      <td>0.159684</td>\n",
       "      <td>0.0</td>\n",
       "      <td>0.0</td>\n",
       "      <td>0.0</td>\n",
       "      <td>...</td>\n",
       "      <td>0.0</td>\n",
       "      <td>0.134327</td>\n",
       "      <td>0.0</td>\n",
       "      <td>0.0</td>\n",
       "      <td>0.000000</td>\n",
       "      <td>0.0</td>\n",
       "      <td>0.0</td>\n",
       "      <td>0.0</td>\n",
       "      <td>0.000000</td>\n",
       "      <td>0.000000</td>\n",
       "    </tr>\n",
       "    <tr>\n",
       "      <th>1</th>\n",
       "      <td>0.0</td>\n",
       "      <td>0.0</td>\n",
       "      <td>0.0</td>\n",
       "      <td>0.0</td>\n",
       "      <td>0.0</td>\n",
       "      <td>0.000000</td>\n",
       "      <td>0.000000</td>\n",
       "      <td>0.0</td>\n",
       "      <td>0.0</td>\n",
       "      <td>0.0</td>\n",
       "      <td>...</td>\n",
       "      <td>0.0</td>\n",
       "      <td>0.085436</td>\n",
       "      <td>0.0</td>\n",
       "      <td>0.0</td>\n",
       "      <td>0.000000</td>\n",
       "      <td>0.0</td>\n",
       "      <td>0.0</td>\n",
       "      <td>0.0</td>\n",
       "      <td>0.067074</td>\n",
       "      <td>0.000000</td>\n",
       "    </tr>\n",
       "    <tr>\n",
       "      <th>2</th>\n",
       "      <td>0.0</td>\n",
       "      <td>0.0</td>\n",
       "      <td>0.0</td>\n",
       "      <td>0.0</td>\n",
       "      <td>0.0</td>\n",
       "      <td>0.000000</td>\n",
       "      <td>0.000000</td>\n",
       "      <td>0.0</td>\n",
       "      <td>0.0</td>\n",
       "      <td>0.0</td>\n",
       "      <td>...</td>\n",
       "      <td>0.0</td>\n",
       "      <td>0.000000</td>\n",
       "      <td>0.0</td>\n",
       "      <td>0.0</td>\n",
       "      <td>0.115312</td>\n",
       "      <td>0.0</td>\n",
       "      <td>0.0</td>\n",
       "      <td>0.0</td>\n",
       "      <td>0.079880</td>\n",
       "      <td>0.111989</td>\n",
       "    </tr>\n",
       "    <tr>\n",
       "      <th>3</th>\n",
       "      <td>0.0</td>\n",
       "      <td>0.0</td>\n",
       "      <td>0.0</td>\n",
       "      <td>0.0</td>\n",
       "      <td>0.0</td>\n",
       "      <td>0.339573</td>\n",
       "      <td>0.000000</td>\n",
       "      <td>0.0</td>\n",
       "      <td>0.0</td>\n",
       "      <td>0.0</td>\n",
       "      <td>...</td>\n",
       "      <td>0.0</td>\n",
       "      <td>0.000000</td>\n",
       "      <td>0.0</td>\n",
       "      <td>0.0</td>\n",
       "      <td>0.000000</td>\n",
       "      <td>0.0</td>\n",
       "      <td>0.0</td>\n",
       "      <td>0.0</td>\n",
       "      <td>0.000000</td>\n",
       "      <td>0.000000</td>\n",
       "    </tr>\n",
       "    <tr>\n",
       "      <th>4</th>\n",
       "      <td>0.0</td>\n",
       "      <td>0.0</td>\n",
       "      <td>0.0</td>\n",
       "      <td>0.0</td>\n",
       "      <td>0.0</td>\n",
       "      <td>0.000000</td>\n",
       "      <td>0.000000</td>\n",
       "      <td>0.0</td>\n",
       "      <td>0.0</td>\n",
       "      <td>0.0</td>\n",
       "      <td>...</td>\n",
       "      <td>0.0</td>\n",
       "      <td>0.000000</td>\n",
       "      <td>0.0</td>\n",
       "      <td>0.0</td>\n",
       "      <td>0.000000</td>\n",
       "      <td>0.0</td>\n",
       "      <td>0.0</td>\n",
       "      <td>0.0</td>\n",
       "      <td>0.303608</td>\n",
       "      <td>0.000000</td>\n",
       "    </tr>\n",
       "  </tbody>\n",
       "</table>\n",
       "<p>5 rows × 500 columns</p>\n",
       "</div>"
      ],
      "text/plain": [
       "    10  100   12   20   34      able     about  accurate  acoustic  actually  \\\n",
       "0  0.0  0.0  0.0  0.0  0.0  0.000000  0.159684       0.0       0.0       0.0   \n",
       "1  0.0  0.0  0.0  0.0  0.0  0.000000  0.000000       0.0       0.0       0.0   \n",
       "2  0.0  0.0  0.0  0.0  0.0  0.000000  0.000000       0.0       0.0       0.0   \n",
       "3  0.0  0.0  0.0  0.0  0.0  0.339573  0.000000       0.0       0.0       0.0   \n",
       "4  0.0  0.0  0.0  0.0  0.0  0.000000  0.000000       0.0       0.0       0.0   \n",
       "\n",
       "   ...  won      work  worked  worth     would  wrong  year  yet       you  \\\n",
       "0  ...  0.0  0.134327     0.0    0.0  0.000000    0.0   0.0  0.0  0.000000   \n",
       "1  ...  0.0  0.085436     0.0    0.0  0.000000    0.0   0.0  0.0  0.067074   \n",
       "2  ...  0.0  0.000000     0.0    0.0  0.115312    0.0   0.0  0.0  0.079880   \n",
       "3  ...  0.0  0.000000     0.0    0.0  0.000000    0.0   0.0  0.0  0.000000   \n",
       "4  ...  0.0  0.000000     0.0    0.0  0.000000    0.0   0.0  0.0  0.303608   \n",
       "\n",
       "       your  \n",
       "0  0.000000  \n",
       "1  0.000000  \n",
       "2  0.111989  \n",
       "3  0.000000  \n",
       "4  0.000000  \n",
       "\n",
       "[5 rows x 500 columns]"
      ]
     },
     "execution_count": 59,
     "metadata": {},
     "output_type": "execute_result"
    }
   ],
   "source": [
    "tfidf_df.head()"
   ]
  },
  {
   "cell_type": "code",
   "execution_count": 64,
   "id": "c861ae2d-ed5a-4748-8d05-727521e1e03c",
   "metadata": {},
   "outputs": [
    {
     "data": {
      "text/plain": [
       "LinearRegression(copy_X=True, fit_intercept=True, n_jobs=None, normalize=False)"
      ]
     },
     "execution_count": 64,
     "metadata": {},
     "output_type": "execute_result"
    }
   ],
   "source": [
    "from sklearn.linear_model import LinearRegression\n",
    "linreg = LinearRegression()\n",
    "linreg.fit(tfidf_df,review_data['overall'])"
   ]
  },
  {
   "cell_type": "code",
   "execution_count": 65,
   "id": "2e5e8644-a784-4d11-a644-eeca61e11d66",
   "metadata": {},
   "outputs": [
    {
     "data": {
      "text/plain": [
       "array([-1.93271993e-01,  5.65226131e-01,  5.63243687e-01, -1.84418658e-01,\n",
       "       -6.32257431e-02,  3.05320627e-01,  4.95264614e-01,  5.21333693e-01,\n",
       "        2.65736989e-01,  4.00058256e-01,  5.64020424e-01,  7.56022958e-01,\n",
       "        1.00174846e-02, -3.06429115e-01, -3.12104234e-01,  3.38294736e-01,\n",
       "       -6.05747380e-01, -1.04123996e-01,  5.58669738e-02, -1.13320890e-01,\n",
       "        4.79471129e-01,  1.49528459e-01,  7.79094545e-01, -3.63399268e-01,\n",
       "        1.25993539e-01, -6.29415062e-02,  4.94517373e-01, -3.34989132e-01,\n",
       "        2.55374355e-01,  8.84676972e-02, -3.68013360e-01, -1.09910777e-01,\n",
       "       -7.09777794e-03, -5.15547511e-02,  1.17415090e-01, -8.89213726e-02,\n",
       "        1.06398798e+00, -1.19791236e+00, -1.14906460e+00,  1.55215016e-01,\n",
       "       -5.05283241e-01,  2.43200389e-01,  8.56413437e-02, -3.74044994e-02,\n",
       "       -7.31390217e-03,  9.63911076e-01, -7.82062558e-02,  1.50616236e-01,\n",
       "       -9.35299622e-02,  1.87239631e-02,  9.34145997e-02,  1.18038260e+00,\n",
       "       -3.79855115e-01,  4.51076351e-02,  1.11808544e-01,  7.22506502e-03,\n",
       "        3.60057791e-01,  2.35459334e-01,  1.15359278e-01, -2.48993670e-01,\n",
       "        1.34437898e-01, -2.99424905e-01, -1.00687767e-01, -3.10436924e-01,\n",
       "        2.44420457e-02,  1.34593395e-01,  1.52613968e-01,  1.14304224e-01,\n",
       "        8.46643557e-02, -9.06292369e-02,  1.88909690e-01,  1.71488133e-01,\n",
       "       -1.37036225e+00,  3.67418288e-01,  3.00925842e-01,  3.45914386e-01,\n",
       "       -1.39496654e-01,  6.68231981e-02,  5.38717132e-01,  6.48768917e-01,\n",
       "        6.17383337e-02,  5.90813730e-02,  5.61672845e-01,  1.65737402e-01,\n",
       "       -8.01100597e-01,  9.93604486e-02,  3.42102623e-01, -1.29841794e-01,\n",
       "       -4.25999748e-01,  2.83217045e-01,  3.96739434e-01,  6.94398428e-01,\n",
       "       -9.29986944e-02,  2.53968461e-01, -2.91635937e-01, -3.46844229e-02,\n",
       "        3.39672607e-01, -3.20811765e-02,  3.16527336e-01, -5.27045844e-01,\n",
       "        5.55128892e-02, -3.18888381e-01, -3.93976706e-01,  3.44831236e-01,\n",
       "       -1.09811899e+00,  1.06783494e+00,  3.20517435e-01,  2.74594922e-01,\n",
       "       -2.74537172e-01, -2.00034628e-01, -3.88451233e-01, -8.28259779e-01,\n",
       "        4.89597376e-01,  2.98632125e-01, -3.03832118e-01,  2.15146287e-01,\n",
       "        2.37705277e-01, -1.19349623e+00, -4.86907978e-01,  1.23847986e-01,\n",
       "        2.47467009e-01,  3.45766756e-01,  3.84952037e-01, -1.93286291e-01,\n",
       "        5.02815823e-01,  4.16654695e-01,  7.63182609e-01,  4.62696451e-01,\n",
       "        7.26065135e-01, -1.44403752e-01, -2.10959957e-01, -8.83598953e-02,\n",
       "        4.51769978e-02, -2.25989865e-01, -4.95298506e-02,  4.57461293e-01,\n",
       "        1.04151118e-01, -8.35502661e-01,  3.29435658e-01,  3.94006403e-01,\n",
       "        4.58700193e-01,  8.52483777e-01,  9.70149909e-01, -1.24825255e-01,\n",
       "        1.89749957e-01,  3.82321287e-01,  7.26176775e-03, -1.55920740e-01,\n",
       "       -1.73973353e-02,  4.01520057e-01,  4.47059265e-01,  5.18776710e-01,\n",
       "       -1.61112536e-01,  2.86691269e-01, -6.53365932e-02,  2.38044230e-02,\n",
       "        8.20000801e-02, -1.20056480e-01,  3.89333220e-01,  1.38422928e-01,\n",
       "        5.49925732e-02, -3.04367104e-01, -9.60751203e-03, -9.69433592e-02,\n",
       "       -2.03537217e-01, -3.68099032e-01,  3.54810908e-01, -1.46514952e-02,\n",
       "       -3.54021304e-01, -9.35858009e-02, -6.23931750e-01, -4.48651761e-01,\n",
       "        5.35645290e-02,  5.58110661e-01,  9.63451691e-02, -1.29780206e-02,\n",
       "        3.18286212e-01, -1.59390392e-01,  1.30039970e+00,  2.22448975e-02,\n",
       "        5.55963027e-01,  1.28237358e-01,  7.23155597e-02,  2.46284840e-01,\n",
       "        6.33134043e-01, -6.52865260e-01, -9.30867741e-02,  5.84683837e-01,\n",
       "        1.08044842e-02,  2.77280354e-01, -2.81426660e-02, -9.84860826e-02,\n",
       "        1.17531098e-01, -4.24386800e-01,  5.88017322e-01, -1.38548764e-01,\n",
       "       -1.25628910e-01,  1.57512395e-01,  9.33203209e-01,  3.25132254e-02,\n",
       "        8.98133874e-02,  3.17834624e-01, -2.97413983e-01,  3.66058362e-01,\n",
       "       -1.55746502e+00, -6.43870693e-01,  1.75615680e-01,  1.28757684e-01,\n",
       "        1.26220732e-01, -5.74926282e-01,  3.78284458e-01, -1.11390930e-01,\n",
       "       -6.56401257e-02, -2.53858700e-01,  1.47011419e-01, -2.68552764e-01,\n",
       "       -4.79420557e-01, -5.91272069e-01, -2.02510176e-01,  2.68707129e-01,\n",
       "       -8.28231157e-02,  2.47870138e-01, -4.45901764e-01,  1.62281868e-01,\n",
       "        4.77368877e-01, -2.18716128e-01,  2.54328954e-01, -5.04035777e-01,\n",
       "       -4.33294544e-02, -2.13836601e-01,  5.19535255e-02,  2.03542663e-01,\n",
       "        6.13121146e-01, -2.31998670e-01,  3.59421473e-01, -3.63420033e-01,\n",
       "        1.62419255e-01,  3.50746976e-02, -4.00346486e-01, -2.98894418e-01,\n",
       "        4.27505472e-01,  4.89597351e-01,  1.70218767e-01,  1.31857890e-01,\n",
       "        1.71619867e-01,  3.88279685e-01,  9.58379745e-01, -3.86699805e-01,\n",
       "        1.54475915e-01, -1.89309560e-02,  5.40953363e-01, -4.69498241e-02,\n",
       "       -3.46477399e-01, -1.26528012e+00, -4.50216457e-02, -7.52738603e-01,\n",
       "        7.53935019e-02,  1.14937104e-01,  4.87852366e-01, -5.74077006e-02,\n",
       "       -2.78806732e-01, -1.20705919e-01, -1.11277131e-02, -1.41433709e-01,\n",
       "       -7.75266500e-01, -6.65652499e-01,  1.94094686e-02,  1.85966537e-01,\n",
       "       -1.72715590e-01,  2.90414848e-01,  4.26737622e-01, -1.53330694e-03,\n",
       "        4.66135977e-01,  5.05620235e-01, -2.10774669e-01,  6.04575408e-01,\n",
       "        7.20248797e-01, -3.17183510e-02,  2.00405290e-01,  2.83794788e-01,\n",
       "        5.12085536e-01,  2.67768419e-01, -1.08474890e-01, -1.63159747e+00,\n",
       "        1.67278045e-01, -3.69530332e-01,  5.35249863e-02, -1.29252981e-02,\n",
       "       -5.82978562e-01, -2.07798521e+00,  1.16815703e-01,  2.66136545e-01,\n",
       "       -9.50507895e-02,  2.78698740e-01, -5.01203695e-01, -1.22923206e-01,\n",
       "        1.26832497e-01, -3.65893920e-02,  2.37750752e-01, -4.47664948e-01,\n",
       "       -4.24128724e-01, -4.04263784e-01, -3.37536146e-01,  1.65827147e-01,\n",
       "       -1.14338177e-01, -6.70131284e-01,  5.92094121e-01,  1.05601281e-01,\n",
       "        2.89504473e-01,  1.31742301e-01,  4.83844304e-01, -9.99079185e-01,\n",
       "        1.19551569e-01, -6.96940004e-03,  1.09318886e+00,  1.19507815e+00,\n",
       "        2.67020088e-01, -2.74773837e-01, -7.66395691e-01, -1.11263226e-01,\n",
       "       -1.08237713e+00, -2.04066847e-01,  3.60102663e-01,  5.87382963e-01,\n",
       "        4.52694008e-01,  3.60096410e-01, -1.13942810e-01,  1.79318699e-01,\n",
       "       -2.93677000e-01, -4.53757969e-01,  2.82414931e-01, -2.72631181e-01,\n",
       "       -3.46871405e-01,  2.00630876e-01,  2.00689863e-01, -9.33367286e-01,\n",
       "       -3.12529100e-01, -3.00966173e-01, -3.28582019e-01,  2.30185278e-01,\n",
       "       -3.80441724e-01,  4.52816835e-01,  3.49832777e-01, -1.73618711e-01,\n",
       "        2.19822504e-01,  8.66635967e-02, -3.14333239e-02, -2.63437027e-01,\n",
       "        6.62043655e-02,  1.06812143e-01, -1.77756020e-01,  1.36979894e-01,\n",
       "        2.71498178e-01, -2.73817878e-01,  1.46190253e-02,  2.29009983e-01,\n",
       "       -1.61353381e-01, -2.10593693e-01,  4.44673649e-01,  4.31090628e-01,\n",
       "        4.67190681e-01, -7.35593892e-01,  8.93869036e-01,  4.13078094e-01,\n",
       "       -1.84331993e-01,  5.72999885e-01, -4.89719510e-02, -4.42213934e-01,\n",
       "        9.44028449e-02, -1.03395547e-01, -2.53047294e-01,  1.00254604e-01,\n",
       "        4.13240728e-01,  5.30475780e-02, -2.72262922e-01, -2.47359209e-01,\n",
       "       -2.83658688e-01, -4.64448676e-01,  7.27123145e-01,  2.07472622e-02,\n",
       "        7.56389485e-02,  3.89405303e-01,  2.74638266e-01,  6.25369260e-01,\n",
       "        1.62699280e-01,  1.00754742e-01,  2.86090379e-01,  2.83866399e-01,\n",
       "        2.99935538e-01,  5.65319387e-01,  2.34964556e-01, -1.69741878e+00,\n",
       "        1.57580490e-01, -1.50414780e-02,  1.94774466e-01,  5.42581979e-01,\n",
       "        4.64313702e-01,  3.24999550e-01,  3.21783809e-02, -2.58626388e-01,\n",
       "       -9.73583012e-01, -3.62621769e-01,  6.34859224e-03, -1.81695404e-02,\n",
       "        1.48906028e-01, -6.72105435e-03,  1.70058522e-01,  4.78402178e-01,\n",
       "        1.45041965e-01,  1.23209461e-02,  7.67616898e-01, -6.70331739e-02,\n",
       "       -1.71649245e-01,  5.30898648e-01,  1.09450026e-01,  7.91226721e-01,\n",
       "        1.75810531e-01,  6.34860683e-01,  4.99289304e-01,  4.08358203e-01,\n",
       "        4.95506621e-03, -2.20468567e-01, -8.53093325e-02, -4.72805318e-02,\n",
       "       -1.70055009e-01, -7.19370959e-02,  4.48697843e-01, -5.06147529e-02,\n",
       "       -3.20801154e-01, -4.65152234e-01,  5.45728950e-01,  9.54605928e-02,\n",
       "       -4.04120842e-01, -6.70204376e-01, -3.29416474e-01,  2.48938286e-01,\n",
       "       -4.90623213e-03, -1.01010271e-01, -1.32782826e-01,  4.70385338e-01,\n",
       "       -5.55964380e-01, -1.27289242e-01,  2.79522842e-01, -2.17014232e-01,\n",
       "       -5.57982622e-01, -5.61478956e-01, -5.82690167e-01,  2.22768926e-01,\n",
       "        4.33096462e-01, -1.37950427e-02,  2.36254307e-02, -1.28133864e-02,\n",
       "       -2.17762031e-01,  3.88393065e-01, -1.16195058e-01,  1.28236304e-01,\n",
       "        2.18269931e-01, -5.75459840e-01,  1.64615111e-01,  3.87048741e-01,\n",
       "       -7.10658980e-01, -1.95294161e-01, -3.36317930e-03,  6.58732302e-01,\n",
       "        2.87907733e-01,  6.10860360e-01,  2.19851291e-01,  7.56529751e-01,\n",
       "       -5.60809654e-01, -3.36099682e-01,  9.32018693e-02,  6.69108052e-01,\n",
       "        1.04158237e+00, -4.44587828e-01, -4.29607980e-02, -1.44032383e+00,\n",
       "        2.38861531e-02,  6.98214915e-01, -3.94158673e-01, -7.40189590e-01,\n",
       "       -3.22798935e-02,  1.61259853e-01, -9.69826808e-02,  3.04829487e-01,\n",
       "       -7.44705654e-02,  2.20731530e-01, -3.43352588e-01, -2.16832556e-01,\n",
       "        1.94448819e-01,  4.87130275e-01,  5.79170133e-01, -4.74507928e-02,\n",
       "       -2.65153095e-01,  4.26185502e-01, -6.45001217e-01, -3.76632374e-01,\n",
       "        3.89235808e-01,  5.09934206e-01,  2.29448789e-01,  1.42186481e-01])"
      ]
     },
     "execution_count": 65,
     "metadata": {},
     "output_type": "execute_result"
    }
   ],
   "source": [
    "linreg.coef_"
   ]
  },
  {
   "cell_type": "code",
   "execution_count": 67,
   "id": "17f9e098-69a7-4db8-978f-ed132793a1ec",
   "metadata": {},
   "outputs": [
    {
     "data": {
      "text/plain": [
       "4.218882428983382"
      ]
     },
     "execution_count": 67,
     "metadata": {},
     "output_type": "execute_result"
    }
   ],
   "source": [
    "linreg.intercept_"
   ]
  },
  {
   "cell_type": "code",
   "execution_count": 68,
   "id": "1ebf6568-d4cb-4d9a-bcfc-6c7a06e1fb7c",
   "metadata": {},
   "outputs": [
    {
     "data": {
      "text/plain": [
       "array([4.19200071, 4.25771652, 4.23084868, ..., 4.40384767, 4.49036403,\n",
       "       4.14791976])"
      ]
     },
     "execution_count": 68,
     "metadata": {},
     "output_type": "execute_result"
    }
   ],
   "source": [
    "linreg.predict(tfidf_df)"
   ]
  },
  {
   "cell_type": "code",
   "execution_count": 69,
   "id": "c95f3fd6-b1cf-4fd9-abb9-a02ae2356e15",
   "metadata": {},
   "outputs": [
    {
     "data": {
      "text/html": [
       "<div>\n",
       "<style scoped>\n",
       "    .dataframe tbody tr th:only-of-type {\n",
       "        vertical-align: middle;\n",
       "    }\n",
       "\n",
       "    .dataframe tbody tr th {\n",
       "        vertical-align: top;\n",
       "    }\n",
       "\n",
       "    .dataframe thead th {\n",
       "        text-align: right;\n",
       "    }\n",
       "</style>\n",
       "<table border=\"1\" class=\"dataframe\">\n",
       "  <thead>\n",
       "    <tr style=\"text-align: right;\">\n",
       "      <th></th>\n",
       "      <th>overall</th>\n",
       "      <th>predicted_score_from_linear_regression</th>\n",
       "    </tr>\n",
       "  </thead>\n",
       "  <tbody>\n",
       "    <tr>\n",
       "      <th>0</th>\n",
       "      <td>5</td>\n",
       "      <td>4.192001</td>\n",
       "    </tr>\n",
       "    <tr>\n",
       "      <th>1</th>\n",
       "      <td>5</td>\n",
       "      <td>4.257717</td>\n",
       "    </tr>\n",
       "    <tr>\n",
       "      <th>2</th>\n",
       "      <td>5</td>\n",
       "      <td>4.230849</td>\n",
       "    </tr>\n",
       "    <tr>\n",
       "      <th>3</th>\n",
       "      <td>5</td>\n",
       "      <td>4.085927</td>\n",
       "    </tr>\n",
       "    <tr>\n",
       "      <th>4</th>\n",
       "      <td>5</td>\n",
       "      <td>4.851061</td>\n",
       "    </tr>\n",
       "    <tr>\n",
       "      <th>5</th>\n",
       "      <td>5</td>\n",
       "      <td>4.955069</td>\n",
       "    </tr>\n",
       "    <tr>\n",
       "      <th>6</th>\n",
       "      <td>5</td>\n",
       "      <td>4.446274</td>\n",
       "    </tr>\n",
       "    <tr>\n",
       "      <th>7</th>\n",
       "      <td>3</td>\n",
       "      <td>3.888593</td>\n",
       "    </tr>\n",
       "    <tr>\n",
       "      <th>8</th>\n",
       "      <td>5</td>\n",
       "      <td>4.941788</td>\n",
       "    </tr>\n",
       "    <tr>\n",
       "      <th>9</th>\n",
       "      <td>5</td>\n",
       "      <td>4.513824</td>\n",
       "    </tr>\n",
       "  </tbody>\n",
       "</table>\n",
       "</div>"
      ],
      "text/plain": [
       "   overall  predicted_score_from_linear_regression\n",
       "0        5                                4.192001\n",
       "1        5                                4.257717\n",
       "2        5                                4.230849\n",
       "3        5                                4.085927\n",
       "4        5                                4.851061\n",
       "5        5                                4.955069\n",
       "6        5                                4.446274\n",
       "7        3                                3.888593\n",
       "8        5                                4.941788\n",
       "9        5                                4.513824"
      ]
     },
     "execution_count": 69,
     "metadata": {},
     "output_type": "execute_result"
    }
   ],
   "source": [
    "review_data['predicted_score_from_linear_regression'] = linreg.predict(tfidf_df)\n",
    "review_data[['overall', 'predicted_score_from_linear_regression']].head(10)"
   ]
  },
  {
   "cell_type": "code",
   "execution_count": null,
   "id": "65c12352-6950-4c8f-af42-c227d5fda947",
   "metadata": {},
   "outputs": [],
   "source": []
  }
 ],
 "metadata": {
  "kernelspec": {
   "display_name": "Python [conda env:py37]",
   "language": "python",
   "name": "conda-env-py37-py"
  },
  "language_info": {
   "codemirror_mode": {
    "name": "ipython",
    "version": 3
   },
   "file_extension": ".py",
   "mimetype": "text/x-python",
   "name": "python",
   "nbconvert_exporter": "python",
   "pygments_lexer": "ipython3",
   "version": "3.7.0"
  }
 },
 "nbformat": 4,
 "nbformat_minor": 5
}
